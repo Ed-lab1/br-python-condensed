{
  "nbformat": 4,
  "nbformat_minor": 0,
  "metadata": {
    "colab": {
      "name": "Cópia de Copy of python_exercises_01.ipynb",
      "provenance": [],
      "include_colab_link": true
    },
    "kernelspec": {
      "name": "python3",
      "display_name": "Python 3"
    }
  },
  "cells": [
    {
      "cell_type": "markdown",
      "metadata": {
        "id": "view-in-github",
        "colab_type": "text"
      },
      "source": [
        "<a href=\"https://colab.research.google.com/github/Ed-lab1/br-python-condensed/blob/main/Eduardo_python_exercises_01.ipynb\" target=\"_parent\"><img src=\"https://colab.research.google.com/assets/colab-badge.svg\" alt=\"Open In Colab\"/></a>"
      ]
    },
    {
      "cell_type": "markdown",
      "metadata": {
        "id": "8YqaSZgXYJ5g"
      },
      "source": [
        "![](https://i.imgur.com/YX6UATs.png)\n"
      ]
    },
    {
      "cell_type": "markdown",
      "metadata": {
        "id": "hhUVzDipaGb9"
      },
      "source": [
        "### **Exercícios de Python - 1** \n",
        "\n",
        "\n",
        "\n"
      ]
    },
    {
      "cell_type": "markdown",
      "metadata": {
        "id": "qMGp-h8OaGqr"
      },
      "source": [
        "1 - Faça um programa, com uma função que necessite de três argumentos, e que forneça a soma desses três argumentos."
      ]
    },
    {
      "cell_type": "code",
      "metadata": {
        "id": "kTg-D89NdCld"
      },
      "source": [
        "def funcao_1 (a, b, c):\n",
        " soma = a + b + c\n",
        " return soma"
      ],
      "execution_count": null,
      "outputs": []
    },
    {
      "cell_type": "code",
      "metadata": {
        "colab": {
          "base_uri": "https://localhost:8080/"
        },
        "id": "YTZsf8IgPhdb",
        "outputId": "7531e8e3-2a1c-4b6e-b81b-f7450e2a6606"
      },
      "source": [
        "funcao_1(3, 4, 5)"
      ],
      "execution_count": null,
      "outputs": [
        {
          "output_type": "execute_result",
          "data": {
            "text/plain": [
              "12"
            ]
          },
          "metadata": {
            "tags": []
          },
          "execution_count": 4
        }
      ]
    },
    {
      "cell_type": "markdown",
      "metadata": {
        "id": "KdLXZftIaG60"
      },
      "source": [
        "2 - Faça um Programa que peça a temperatura em graus Celsius, transforme e mostre em graus Fahrenheit. \\\n",
        "*Dica: procure a fórmula para essa conversão na internet*"
      ]
    },
    {
      "cell_type": "code",
      "metadata": {
        "id": "MNINJ32eU45M"
      },
      "source": [
        "def conversor():\n",
        "  celsius = input('Digite a temperatura em Celsius')\n",
        "  conversao_f = (float(celsius))*1.8 + 32\n",
        "  return f'Olá, {celsius} graus Celsius, convertido em Fahrenheit, equivale a {conversao_f} graus Fahrenheit  '"
      ],
      "execution_count": null,
      "outputs": []
    },
    {
      "cell_type": "code",
      "metadata": {
        "colab": {
          "base_uri": "https://localhost:8080/",
          "height": 51
        },
        "id": "vDjWbzRKRumn",
        "outputId": "d3e0972c-1f74-4b0d-b34f-96683f38aec1"
      },
      "source": [
        "conversor()"
      ],
      "execution_count": null,
      "outputs": [
        {
          "output_type": "stream",
          "text": [
            "Digite a temperatura em Celsius25\n"
          ],
          "name": "stdout"
        },
        {
          "output_type": "execute_result",
          "data": {
            "application/vnd.google.colaboratory.intrinsic+json": {
              "type": "string"
            },
            "text/plain": [
              "'Olá, 25 graus Celsius, convertido em Fahrenheit, equivale a 77.0 graus Fahrenheit  '"
            ]
          },
          "metadata": {
            "tags": []
          },
          "execution_count": 21
        }
      ]
    },
    {
      "cell_type": "markdown",
      "metadata": {
        "id": "4OETBVgmaGzX"
      },
      "source": [
        "3 - Faça um Programa que peça um número inteiro e determine se ele é par ou impar. Dica: utilize o operador módulo (resto da divisão)."
      ]
    },
    {
      "cell_type": "code",
      "metadata": {
        "id": "WbzCimFZVSr1"
      },
      "source": [
        "def funcao_par_impar():\n",
        "  numero = input('entre com um número ')\n",
        "  par_impar = int(numero)%2\n",
        "  if par_impar == 0:\n",
        "    return f' {numero} é um número par'\n",
        "  else:\n",
        "    return f' {numero} é um número ímpar'"
      ],
      "execution_count": null,
      "outputs": []
    },
    {
      "cell_type": "code",
      "metadata": {
        "colab": {
          "base_uri": "https://localhost:8080/",
          "height": 51
        },
        "id": "bW_5AVVBewjR",
        "outputId": "18ac9681-8e25-4370-e939-6b0861542f9d"
      },
      "source": [
        "funcao_par_impar()"
      ],
      "execution_count": null,
      "outputs": [
        {
          "output_type": "stream",
          "text": [
            "entre com um número 7\n"
          ],
          "name": "stdout"
        },
        {
          "output_type": "execute_result",
          "data": {
            "application/vnd.google.colaboratory.intrinsic+json": {
              "type": "string"
            },
            "text/plain": [
              "' 7 é um número ímpar'"
            ]
          },
          "metadata": {
            "tags": []
          },
          "execution_count": 35
        }
      ]
    },
    {
      "cell_type": "markdown",
      "metadata": {
        "id": "7zPJ8sgPaGw0"
      },
      "source": [
        "4 - Faça um programa que peça o tamanho de um arquivo para download (em MB) e a velocidade de um link de Internet (em Mbps), calcule e informe o tempo aproximado de download do arquivo usando este link (em minutos)."
      ]
    },
    {
      "cell_type": "code",
      "metadata": {
        "id": "l4qtSxU7XquB"
      },
      "source": [
        "def velocidade_internet():\n",
        "  tamanho = input('Entre com o tamanho do arquivo em Mb')\n",
        "  velocidade = input('Entre com a velocidade da sua internet em Mbps ')\n",
        "  tempo = (float(tamanho)/float(velocidade))/60\n",
        "  return f'Este download demorará aproximadamente {tempo} minutos'"
      ],
      "execution_count": 2,
      "outputs": []
    },
    {
      "cell_type": "code",
      "metadata": {
        "colab": {
          "base_uri": "https://localhost:8080/",
          "height": 68
        },
        "id": "PJwf5dePUulD",
        "outputId": "eb8129ac-aa44-4c7f-f338-dab72957d48e"
      },
      "source": [
        "velocidade_internet()"
      ],
      "execution_count": 3,
      "outputs": [
        {
          "output_type": "stream",
          "text": [
            "Entre com o tamanho do arquivo em Mb8000\n",
            "Entre com a velocidade da sua internet em Mbps 10\n"
          ],
          "name": "stdout"
        },
        {
          "output_type": "execute_result",
          "data": {
            "application/vnd.google.colaboratory.intrinsic+json": {
              "type": "string"
            },
            "text/plain": [
              "'Este download demorará aproximadamente 13.333333333333334 minutos'"
            ]
          },
          "metadata": {
            "tags": []
          },
          "execution_count": 3
        }
      ]
    },
    {
      "cell_type": "markdown",
      "metadata": {
        "id": "0tkhm6EUaG1u"
      },
      "source": [
        "5 - Faça um programa para a leitura de duas notas parciais de um aluno. O programa deve calcular a média alcançada por aluno e apresentar:\n",
        "- A mensagem \"Aprovado\", se a média alcançada for maior ou igual a sete;\n",
        "- A mensagem \"Reprovado\", se a média for menor do que sete;\n",
        "- A mensagem \"Aprovado com Distinção\", se a média for igual a dez."
      ]
    },
    {
      "cell_type": "code",
      "metadata": {
        "id": "990mQ6UhdwKl"
      },
      "source": [
        "def boletim():\n",
        "  nome = input('Qual o seu nome? ')\n",
        "  nota1 = input('Qual foi sua nota 1 (exemplo 8.5)? ')\n",
        "  nota2 = input('Qual foi sua nota 2 (exemplo 5.0)? ')\n",
        "  media = (float(nota1)+float(nota2))/2\n",
        "  if media >= 7:\n",
        "    return f'Parabéns, {nome}, você foi aprovado(a)!'\n",
        "  elif media < 7:\n",
        "    return f' {nome}, não foi dessa vez campeão(a), estude mais! você foi reprovado(a)!!'\n",
        "  elif media == 10:\n",
        "    return f'Sensacional, {nome}, você foi aprovado(a) com distinção!!'\n",
        "\n",
        "\n"
      ],
      "execution_count": null,
      "outputs": []
    },
    {
      "cell_type": "code",
      "metadata": {
        "colab": {
          "base_uri": "https://localhost:8080/",
          "height": 85
        },
        "id": "A_Yd1ottbryU",
        "outputId": "0a8d3666-461b-48ab-abf5-15576bec3f85"
      },
      "source": [
        "boletim()"
      ],
      "execution_count": null,
      "outputs": [
        {
          "output_type": "stream",
          "text": [
            "Qual o seu nome? f\n",
            "Qual foi sua nota 1 (exemplo 8.5)? 7\n",
            "Qual foi sua nota 2 (exemplo 5.0)? 10\n"
          ],
          "name": "stdout"
        },
        {
          "output_type": "execute_result",
          "data": {
            "application/vnd.google.colaboratory.intrinsic+json": {
              "type": "string"
            },
            "text/plain": [
              "'Parabéns, f, você foi aprovado(a)!'"
            ]
          },
          "metadata": {
            "tags": []
          },
          "execution_count": 38
        }
      ]
    },
    {
      "cell_type": "markdown",
      "metadata": {
        "id": "Lm1tOKThnU42"
      },
      "source": [
        "Exercícios adaptados de Python Brasil"
      ]
    }
  ]
}